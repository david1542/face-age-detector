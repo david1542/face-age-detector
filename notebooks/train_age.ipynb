{
 "cells": [
  {
   "cell_type": "code",
   "execution_count": 1,
   "metadata": {},
   "outputs": [],
   "source": [
    "# Must contain this cell, in order to import from other folders\n",
    "import os\n",
    "import sys\n",
    "sys.path.append(os.getcwd() + '/..')\n",
    "\n",
    "%reload_ext autoreload\n",
    "%autoreload 2"
   ]
  },
  {
   "cell_type": "code",
   "execution_count": 4,
   "metadata": {},
   "outputs": [
    {
     "name": "stderr",
     "output_type": "stream",
     "text": [
      "GPU available: False, used: False\n",
      "TPU available: False, using: 0 TPU cores\n",
      "IPU available: False, using: 0 IPUs\n",
      "Running in fast_dev_run mode: will run a full train, val, test and prediction loop using 1 batch(es).\n",
      "\n",
      "  | Name  | Type             | Params\n",
      "-------------------------------------------\n",
      "0 | model | FeatureExtractor | 134 M \n",
      "-------------------------------------------\n",
      "32.8 K    Trainable params\n",
      "134 M     Non-trainable params\n",
      "134 M     Total params\n",
      "537.173   Total estimated model params size (MB)\n",
      "/Users/dudulasri/miniconda3/envs/face-age-detector/lib/python3.7/site-packages/pytorch_lightning/trainer/data_loading.py:117: UserWarning: The dataloader, train_dataloader, does not have many workers which may be a bottleneck. Consider increasing the value of the `num_workers` argument` (try 16 which is the number of cpus on this machine) in the `DataLoader` init to improve performance.\n",
      "  f\"The dataloader, {name}, does not have many workers which may be a bottleneck.\"\n",
      "/Users/dudulasri/miniconda3/envs/face-age-detector/lib/python3.7/site-packages/pytorch_lightning/trainer/data_loading.py:413: UserWarning: The number of training samples (1) is smaller than the logging interval Trainer(log_every_n_steps=50). Set a lower value for log_every_n_steps if you want to see logs for the training epoch.\n",
      "  f\"The number of training samples ({self.num_training_batches}) is smaller than the logging interval\"\n",
      "/Users/dudulasri/miniconda3/envs/face-age-detector/lib/python3.7/site-packages/pytorch_lightning/trainer/data_loading.py:117: UserWarning: The dataloader, val_dataloader 0, does not have many workers which may be a bottleneck. Consider increasing the value of the `num_workers` argument` (try 16 which is the number of cpus on this machine) in the `DataLoader` init to improve performance.\n",
      "  f\"The dataloader, {name}, does not have many workers which may be a bottleneck.\"\n"
     ]
    },
    {
     "name": "stdout",
     "output_type": "stream",
     "text": [
      "Epoch 0: 100%|██████████| 2/2 [00:20<00:00, 10.07s/it, loss=2.12, v_num=]\n"
     ]
    }
   ],
   "source": [
    "import torch\n",
    "import pytorch_lightning as pl\n",
    "\n",
    "from src.datamodules.age.datamodule import AgeDataModule\n",
    "from src.models.module import PLModule\n",
    "from src.models.fe import FeatureExtractor\n",
    "\n",
    "# Prepare models\n",
    "backbone = FeatureExtractor(backbone_name='vgg16', output_size=8)\n",
    "model = PLModule(backbone)\n",
    "\n",
    "optimizer = torch.optim.Adam(model.parameters(), lr=1e-3)\n",
    "model.set_optimizer(optimizer)\n",
    "\n",
    "# Prepare datamodule\n",
    "params = {\n",
    "    'fold': 0,\n",
    "    'batch_size': 32,\n",
    "    'image_width': 224,\n",
    "    'image_height': 224\n",
    "}\n",
    "datamodule = AgeDataModule(**params)\n",
    "\n",
    "trainer = pl.Trainer(fast_dev_run=True)\n",
    "trainer.fit(model=model, datamodule=datamodule)"
   ]
  },
  {
   "cell_type": "code",
   "execution_count": 5,
   "metadata": {},
   "outputs": [
    {
     "data": {
      "text/plain": [
       "{'train/precision': tensor(0.0273),\n",
       " 'train/recall': tensor(0.0312),\n",
       " 'train/f1-score': tensor(0.0292),\n",
       " 'train/loss': tensor(2.1236),\n",
       " 'valid/precision': tensor(0.9375),\n",
       " 'valid/recall': tensor(0.0312),\n",
       " 'valid/f1-score': tensor(0.0605),\n",
       " 'valid/loss': tensor(1.9823)}"
      ]
     },
     "execution_count": 5,
     "metadata": {},
     "output_type": "execute_result"
    }
   ],
   "source": [
    "trainer.callback_metrics"
   ]
  },
  {
   "cell_type": "code",
   "execution_count": 64,
   "metadata": {},
   "outputs": [],
   "source": [
    "datamodule.setup()\n",
    "train_dataloader = datamodule.train_dataloader()\n",
    "images, labels = next(iter(train_dataloader))"
   ]
  },
  {
   "cell_type": "code",
   "execution_count": 69,
   "metadata": {},
   "outputs": [],
   "source": [
    "outputs = model(images)"
   ]
  },
  {
   "cell_type": "code",
   "execution_count": 75,
   "metadata": {},
   "outputs": [
    {
     "data": {
      "text/plain": [
       "tensor([3, 7, 6, 6, 7, 5, 5, 4, 3, 5, 6, 5, 5, 5, 6, 5, 5, 1, 2, 5, 2, 6, 5, 1,\n",
       "        6, 3, 7, 0, 5, 6, 5, 7])"
      ]
     },
     "execution_count": 75,
     "metadata": {},
     "output_type": "execute_result"
    }
   ],
   "source": [
    "predictions = outputs.argmax(dim=1)\n",
    "predictions"
   ]
  },
  {
   "cell_type": "code",
   "execution_count": 85,
   "metadata": {},
   "outputs": [
    {
     "name": "stderr",
     "output_type": "stream",
     "text": [
      "/Users/dudulasri/miniconda3/envs/face-age-detector/lib/python3.7/site-packages/sklearn/metrics/_classification.py:1221: UndefinedMetricWarning: Recall and F-score are ill-defined and being set to 0.0 in labels with no true samples. Use `zero_division` parameter to control this behavior.\n",
      "  _warn_prf(average, modifier, msg_start, len(result))\n"
     ]
    }
   ],
   "source": [
    "from src.datamodules.age.constants import AGE_LABELS\n",
    "from sklearn.metrics import classification_report\n",
    "\n",
    "report = classification_report(y_true=labels, y_pred=predictions, target_names=AGE_LABELS, output_dict=True)"
   ]
  },
  {
   "cell_type": "code",
   "execution_count": 1,
   "metadata": {},
   "outputs": [
    {
     "ename": "NameError",
     "evalue": "name 'trainer' is not defined",
     "output_type": "error",
     "traceback": [
      "\u001b[0;31m---------------------------------------------------------------------------\u001b[0m",
      "\u001b[0;31mNameError\u001b[0m                                 Traceback (most recent call last)",
      "\u001b[0;32m/var/folders/3h/wlxg75md07l74x4pwn04618m0000gn/T/ipykernel_4394/3299707104.py\u001b[0m in \u001b[0;36m<module>\u001b[0;34m\u001b[0m\n\u001b[0;32m----> 1\u001b[0;31m \u001b[0mtrainer\u001b[0m\u001b[0;34m\u001b[0m\u001b[0;34m\u001b[0m\u001b[0m\n\u001b[0m",
      "\u001b[0;31mNameError\u001b[0m: name 'trainer' is not defined"
     ]
    }
   ],
   "source": []
  },
  {
   "cell_type": "code",
   "execution_count": 70,
   "metadata": {},
   "outputs": [
    {
     "data": {
      "text/plain": [
       "tensor(2.2203, grad_fn=<NllLossBackward0>)"
      ]
     },
     "execution_count": 70,
     "metadata": {},
     "output_type": "execute_result"
    }
   ],
   "source": [
    "import torch.nn.functional as F\n",
    "\n",
    "F.cross_entropy(outputs, labels)"
   ]
  },
  {
   "cell_type": "code",
   "execution_count": 72,
   "metadata": {},
   "outputs": [
    {
     "data": {
      "text/plain": [
       "16"
      ]
     },
     "execution_count": 72,
     "metadata": {},
     "output_type": "execute_result"
    }
   ],
   "source": [
    "import os\n",
    "\n",
    "os.cpu_count()"
   ]
  },
  {
   "cell_type": "code",
   "execution_count": 13,
   "metadata": {},
   "outputs": [
    {
     "data": {
      "text/plain": [
       "tensor([0.6702, 0.0000, 0.0000, 0.0000, 0.0000], grad_fn=<ReluBackward0>)"
      ]
     },
     "execution_count": 13,
     "metadata": {},
     "output_type": "execute_result"
    }
   ],
   "source": [
    "import torch\n",
    "import torch.nn as nn\n",
    "\n",
    "hidden_shapes = [(3, 3), (3, 1), (1, 5)]\n",
    "layers = []\n",
    "for i, shape in enumerate(hidden_shapes):\n",
    "    in_features, out_features = shape\n",
    "    \n",
    "    layers.append(nn.Linear(in_features, out_features))\n",
    "    layers.append(nn.ReLU())\n",
    "\n",
    "classifier = nn.Sequential(*layers)"
   ]
  },
  {
   "cell_type": "code",
   "execution_count": 18,
   "metadata": {},
   "outputs": [
    {
     "data": {
      "text/plain": [
       "[Parameter containing:\n",
       " tensor([[ 0.2672, -0.2273,  0.0129],\n",
       "         [-0.4148,  0.2321,  0.0779],\n",
       "         [-0.1913, -0.1994, -0.4726]], requires_grad=True),\n",
       " Parameter containing:\n",
       " tensor([ 0.5692, -0.2388,  0.3611], requires_grad=True)]"
      ]
     },
     "execution_count": 18,
     "metadata": {},
     "output_type": "execute_result"
    }
   ],
   "source": [
    "list(classifier[0].parameters())"
   ]
  },
  {
   "cell_type": "code",
   "execution_count": 2,
   "metadata": {},
   "outputs": [],
   "source": [
    "from src.utils.data import get_train_valid_sets\n",
    "from src.datamodules.age.utils import preprocess_metadata\n",
    "\n",
    "train_set, valid_set = get_train_valid_sets(0)\n",
    "train_set = preprocess_metadata(train_set)\n",
    "valid_set = preprocess_metadata(valid_set)"
   ]
  },
  {
   "cell_type": "code",
   "execution_count": 3,
   "metadata": {},
   "outputs": [
    {
     "name": "stdout",
     "output_type": "stream",
     "text": [
      "<class 'pandas.core.frame.DataFrame'>\n",
      "Int64Index: 14189 entries, 0 to 14861\n",
      "Data columns (total 12 columns):\n",
      " #   Column              Non-Null Count  Dtype \n",
      "---  ------              --------------  ----- \n",
      " 0   user_id             14189 non-null  object\n",
      " 1   original_image      14189 non-null  object\n",
      " 2   face_id             14189 non-null  int64 \n",
      " 3   age                 14189 non-null  object\n",
      " 4   gender              14119 non-null  object\n",
      " 5   x                   14189 non-null  int64 \n",
      " 6   y                   14189 non-null  int64 \n",
      " 7   dx                  14189 non-null  int64 \n",
      " 8   dy                  14189 non-null  int64 \n",
      " 9   tilt_ang            14189 non-null  int64 \n",
      " 10  fiducial_yaw_angle  14189 non-null  int64 \n",
      " 11  fiducial_score      14189 non-null  int64 \n",
      "dtypes: int64(8), object(4)\n",
      "memory usage: 1.4+ MB\n"
     ]
    }
   ],
   "source": [
    "train_set.info()"
   ]
  },
  {
   "cell_type": "code",
   "execution_count": 4,
   "metadata": {},
   "outputs": [
    {
     "name": "stdout",
     "output_type": "stream",
     "text": [
      "<class 'pandas.core.frame.DataFrame'>\n",
      "Int64Index: 4432 entries, 0 to 4481\n",
      "Data columns (total 12 columns):\n",
      " #   Column              Non-Null Count  Dtype \n",
      "---  ------              --------------  ----- \n",
      " 0   user_id             4432 non-null   object\n",
      " 1   original_image      4432 non-null   object\n",
      " 2   face_id             4432 non-null   int64 \n",
      " 3   age                 4432 non-null   object\n",
      " 4   gender              4431 non-null   object\n",
      " 5   x                   4432 non-null   int64 \n",
      " 6   y                   4432 non-null   int64 \n",
      " 7   dx                  4432 non-null   int64 \n",
      " 8   dy                  4432 non-null   int64 \n",
      " 9   tilt_ang            4432 non-null   int64 \n",
      " 10  fiducial_yaw_angle  4432 non-null   int64 \n",
      " 11  fiducial_score      4432 non-null   int64 \n",
      "dtypes: int64(8), object(4)\n",
      "memory usage: 579.2+ KB\n"
     ]
    }
   ],
   "source": [
    "valid_set.info()"
   ]
  }
 ],
 "metadata": {
  "interpreter": {
   "hash": "c1aaf0d1932b6f6aaacf882fff77633152763990bf077f0581870a20a87a204a"
  },
  "kernelspec": {
   "display_name": "Python 3.7.7 64-bit ('face-age-detector': conda)",
   "language": "python",
   "name": "python3"
  },
  "language_info": {
   "codemirror_mode": {
    "name": "ipython",
    "version": 3
   },
   "file_extension": ".py",
   "mimetype": "text/x-python",
   "name": "python",
   "nbconvert_exporter": "python",
   "pygments_lexer": "ipython3",
   "version": "3.7.7"
  },
  "orig_nbformat": 4
 },
 "nbformat": 4,
 "nbformat_minor": 2
}
