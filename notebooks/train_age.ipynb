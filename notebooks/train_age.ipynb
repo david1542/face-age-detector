{
 "cells": [
  {
   "cell_type": "code",
   "execution_count": 3,
   "metadata": {},
   "outputs": [],
   "source": [
    "# Must contain this cell, in order to import from other folders\n",
    "import os\n",
    "import sys\n",
    "sys.path.append(os.getcwd() + '/..')\n",
    "\n",
    "%reload_ext autoreload\n",
    "%autoreload 2"
   ]
  },
  {
   "cell_type": "code",
   "execution_count": 1,
   "metadata": {},
   "outputs": [],
   "source": [
    "import pytorch_lightning as pl\n",
    "\n",
    "# Set random seed\n",
    "random_seed = 42\n",
    "pl.seed_everything(random_seed)\n",
    "\n",
    "# Create & fit the model using Pytorch Lightning's Trainer\n",
    "trainer = pl.Trainer.from_argparse_args(args)\n",
    "trainer.fit(model, datamodule=datamodule)\n",
    "\n",
    "if args.fast_dev_run is None:\n",
    "    trainer.test(datamodule=datamodule)"
   ]
  },
  {
   "cell_type": "code",
   "execution_count": 1,
   "metadata": {},
   "outputs": [
    {
     "data": {
      "text/plain": [
       "3"
      ]
     },
     "execution_count": 1,
     "metadata": {},
     "output_type": "execute_result"
    }
   ],
   "source": [
    "import torch.nn as nn\n",
    "\n",
    "layer = nn.Linear(3, 2)\n",
    "\n",
    "layer.in_features"
   ]
  },
  {
   "cell_type": "code",
   "execution_count": null,
   "metadata": {},
   "outputs": [],
   "source": []
  }
 ],
 "metadata": {
  "interpreter": {
   "hash": "c1aaf0d1932b6f6aaacf882fff77633152763990bf077f0581870a20a87a204a"
  },
  "kernelspec": {
   "display_name": "Python 3.7.7 64-bit ('face-age-detector': conda)",
   "language": "python",
   "name": "python3"
  },
  "language_info": {
   "codemirror_mode": {
    "name": "ipython",
    "version": 3
   },
   "file_extension": ".py",
   "mimetype": "text/x-python",
   "name": "python",
   "nbconvert_exporter": "python",
   "pygments_lexer": "ipython3",
   "version": "3.7.7"
  },
  "orig_nbformat": 4
 },
 "nbformat": 4,
 "nbformat_minor": 2
}
